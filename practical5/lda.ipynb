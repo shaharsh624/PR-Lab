{
 "cells": [
  {
   "cell_type": "code",
   "execution_count": 4,
   "metadata": {},
   "outputs": [],
   "source": [
    "import numpy as np"
   ]
  },
  {
   "cell_type": "code",
   "execution_count": 1,
   "metadata": {},
   "outputs": [
    {
     "data": {
      "text/plain": [
       "(array([4.8, 5.2]), array([10. ,  9.4]))"
      ]
     },
     "execution_count": 1,
     "metadata": {},
     "output_type": "execute_result"
    }
   ],
   "source": [
    "# Step 1: Define the samples for each class\n",
    "X1 = np.array([[6, 4], [4, 5], [3, 4], [5, 7], [6, 6]])\n",
    "X2 = np.array([[11, 12], [7, 9], [10, 7], [10, 9], [12, 10]])\n",
    "\n",
    "# Step 2: Compute the mean vectors\n",
    "mu1 = np.mean(X1, axis=0)\n",
    "mu2 = np.mean(X2, axis=0)\n",
    "\n",
    "mu1, mu2"
   ]
  },
  {
   "cell_type": "code",
   "execution_count": 2,
   "metadata": {},
   "outputs": [
    {
     "data": {
      "text/plain": [
       "(array([[20.8,  7.2],\n",
       "        [ 7.2, 20. ]]),\n",
       " array([[27.04, 21.84],\n",
       "        [21.84, 17.64]]))"
      ]
     },
     "execution_count": 2,
     "metadata": {},
     "output_type": "execute_result"
    }
   ],
   "source": [
    "# Step 3: Compute the within-class scatter matrix SW\n",
    "S_W = np.zeros((2, 2))\n",
    "\n",
    "# Compute the scatter matrix for class ω1\n",
    "for x in X1:\n",
    "    diff = (x - mu1).reshape(2, 1)\n",
    "    S_W += diff @ diff.T\n",
    "\n",
    "# Compute the scatter matrix for class ω2\n",
    "for x in X2:\n",
    "    diff = (x - mu2).reshape(2, 1)\n",
    "    S_W += diff @ diff.T\n",
    "\n",
    "# Step 4: Compute the between-class scatter matrix SB\n",
    "diff_mu = (mu1 - mu2).reshape(2, 1)\n",
    "S_B = diff_mu @ diff_mu.T\n",
    "\n",
    "S_W, S_B"
   ]
  },
  {
   "cell_type": "code",
   "execution_count": 3,
   "metadata": {},
   "outputs": [
    {
     "data": {
      "text/plain": [
       "(array([ 1.62899824e+00, -1.72447039e-16]), array([0.82816079, 0.5604906 ]))"
      ]
     },
     "execution_count": 3,
     "metadata": {},
     "output_type": "execute_result"
    }
   ],
   "source": [
    "# Step 5: Compute the eigenvalues and eigenvectors of SW^-1 * SB\n",
    "# First, compute the inverse of SW\n",
    "S_W_inv = np.linalg.inv(S_W)\n",
    "\n",
    "# Then, compute the matrix SW^-1 * SB\n",
    "S_W_inv_S_B = S_W_inv @ S_B\n",
    "\n",
    "# Compute the eigenvalues and eigenvectors\n",
    "eigenvalues, eigenvectors = np.linalg.eig(S_W_inv_S_B)\n",
    "\n",
    "# Find the eigenvector corresponding to the largest eigenvalue\n",
    "max_eigenvalue_index = np.argmax(eigenvalues)\n",
    "linear_discriminant_vector = eigenvectors[:, max_eigenvalue_index]\n",
    "\n",
    "eigenvalues, linear_discriminant_vector"
   ]
  },
  {
   "cell_type": "code",
   "execution_count": null,
   "metadata": {},
   "outputs": [],
   "source": []
  }
 ],
 "metadata": {
  "kernelspec": {
   "display_name": "base",
   "language": "python",
   "name": "python3"
  },
  "language_info": {
   "codemirror_mode": {
    "name": "ipython",
    "version": 3
   },
   "file_extension": ".py",
   "mimetype": "text/x-python",
   "name": "python",
   "nbconvert_exporter": "python",
   "pygments_lexer": "ipython3",
   "version": "3.12.2"
  }
 },
 "nbformat": 4,
 "nbformat_minor": 2
}
