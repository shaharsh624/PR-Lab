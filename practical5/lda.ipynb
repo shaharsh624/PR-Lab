{
 "cells": [
  {
   "cell_type": "code",
   "execution_count": 1,
   "metadata": {},
   "outputs": [],
   "source": [
    "import numpy as np\n",
    "\n",
    "# Given data\n",
    "X1 = np.array([[6, 4], [4, 5], [3, 4], [5, 7], [6, 6]])  # Class ω1\n",
    "X2 = np.array([[11, 12], [7, 9], [10, 7], [10, 9], [12, 10]])  # Class ω2"
   ]
  },
  {
   "cell_type": "code",
   "execution_count": 2,
   "metadata": {},
   "outputs": [],
   "source": [
    "# Step 1: Compute the mean vectors\n",
    "mu1 = np.mean(X1, axis=0)\n",
    "mu2 = np.mean(X2, axis=0)"
   ]
  },
  {
   "cell_type": "code",
   "execution_count": 3,
   "metadata": {},
   "outputs": [],
   "source": [
    "# Step 2: Compute the within-class scatter matrices\n",
    "S_W1 = np.dot((X1 - mu1).T, (X1 - mu1)) / (len(X1) - 1)\n",
    "S_W2 = np.dot((X2 - mu2).T, (X2 - mu2)) / (len(X2) - 1)\n",
    "S_W = S_W1 + S_W2"
   ]
  },
  {
   "cell_type": "code",
   "execution_count": 4,
   "metadata": {},
   "outputs": [],
   "source": [
    "# Step 3: Compute the between-class scatter matrix\n",
    "mu_diff = (mu2 - mu1).reshape(2, 1)\n",
    "S_B = np.dot(mu_diff, mu_diff.T)"
   ]
  },
  {
   "cell_type": "code",
   "execution_count": 5,
   "metadata": {},
   "outputs": [],
   "source": [
    "# Step 4: Compute the projection vector (eigenvector)\n",
    "eigvals, eigvecs = np.linalg.eig(np.linalg.inv(S_W).dot(S_B))"
   ]
  },
  {
   "cell_type": "code",
   "execution_count": 6,
   "metadata": {},
   "outputs": [],
   "source": [
    "# Sort eigenvectors by eigenvalues in descending order\n",
    "eigvecs = eigvecs[:, np.argsort(-eigvals)]\n",
    "w = eigvecs[:, 0]  # Projection vector (corresponding to the largest eigenvalue)"
   ]
  },
  {
   "cell_type": "code",
   "execution_count": 7,
   "metadata": {},
   "outputs": [
    {
     "name": "stdout",
     "output_type": "stream",
     "text": [
      "Mean vector of class ω1: [4.8 5.2]\n",
      "Mean vector of class ω2: [10.   9.4]\n",
      "Within-class scatter matrix S_W:\n",
      " [[5.2 1.8]\n",
      " [1.8 5. ]]\n",
      "Between-class scatter matrix S_B:\n",
      " [[27.04 21.84]\n",
      " [21.84 17.64]]\n",
      "Projection vector w: [0.82816079 0.5604906 ]\n"
     ]
    }
   ],
   "source": [
    "# Output the results\n",
    "print(\"Mean vector of class ω1:\", mu1)\n",
    "print(\"Mean vector of class ω2:\", mu2)\n",
    "print(\"Within-class scatter matrix S_W:\\n\", S_W)\n",
    "print(\"Between-class scatter matrix S_B:\\n\", S_B)\n",
    "print(\"Projection vector w:\", w)"
   ]
  },
  {
   "cell_type": "code",
   "execution_count": 8,
   "metadata": {},
   "outputs": [
    {
     "name": "stdout",
     "output_type": "stream",
     "text": [
      "Projected samples for class ω1: [7.21092712 6.11509614 4.72644475 8.06423812 8.33190831]\n",
      "Projected samples for class ω2: [15.83565584 10.84154089 12.20504206 13.32602325 15.54283543]\n"
     ]
    }
   ],
   "source": [
    "# Project the samples onto the new axis\n",
    "Y1 = np.dot(X1, w)\n",
    "Y2 = np.dot(X2, w)\n",
    "\n",
    "print(\"Projected samples for class ω1:\", Y1)\n",
    "print(\"Projected samples for class ω2:\", Y2)"
   ]
  }
 ],
 "metadata": {
  "kernelspec": {
   "display_name": "Python 3",
   "language": "python",
   "name": "python3"
  },
  "language_info": {
   "codemirror_mode": {
    "name": "ipython",
    "version": 3
   },
   "file_extension": ".py",
   "mimetype": "text/x-python",
   "name": "python",
   "nbconvert_exporter": "python",
   "pygments_lexer": "ipython3",
   "version": "3.10.13"
  }
 },
 "nbformat": 4,
 "nbformat_minor": 2
}
