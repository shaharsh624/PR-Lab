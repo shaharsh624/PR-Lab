{
 "cells": [
  {
   "cell_type": "code",
   "execution_count": 3,
   "metadata": {},
   "outputs": [],
   "source": [
    "def jaccard_similarity(list1, list2):\n",
    "    intersection = 0\n",
    "    union = 0\n",
    "\n",
    "    for a, b in zip(list1, list2):\n",
    "        if a == 1 or b == 1:\n",
    "            union += 1\n",
    "        if a == 1 and b == 1:\n",
    "            intersection += 1\n",
    "\n",
    "    if union == 0:\n",
    "        return 0\n",
    "    return intersection / union"
   ]
  },
  {
   "cell_type": "code",
   "execution_count": 4,
   "metadata": {},
   "outputs": [],
   "source": [
    "C1 = [0, 1, 0, 0, 0, 1, 0, 0, 1]\n",
    "C2 = [0, 0, 1, 0, 0, 0, 0, 0, 1]\n",
    "C3 = [1, 1, 0, 0, 0, 1, 0, 0, 0]"
   ]
  },
  {
   "cell_type": "code",
   "execution_count": 5,
   "metadata": {},
   "outputs": [],
   "source": [
    "similarity_C1_C2 = jaccard_similarity(C1, C2)\n",
    "similarity_C1_C3 = jaccard_similarity(C1, C3)\n",
    "similarity_C2_C3 = jaccard_similarity(C2, C3)"
   ]
  },
  {
   "cell_type": "code",
   "execution_count": 6,
   "metadata": {},
   "outputs": [
    {
     "name": "stdout",
     "output_type": "stream",
     "text": [
      "Similarity - Customer C1 and C2 is 0.25\n",
      "Similarity - Customer C1 and C3 is 0.5\n",
      "Similarity - Customer C2 and C3 is 0.0\n"
     ]
    }
   ],
   "source": [
    "print(f\"Similarity - Customer C1 and C2 is {similarity_C1_C2}\")\n",
    "print(f\"Similarity - Customer C1 and C3 is {similarity_C1_C3}\")\n",
    "print(f\"Similarity - Customer C2 and C3 is {similarity_C2_C3}\")"
   ]
  },
  {
   "cell_type": "code",
   "execution_count": 7,
   "metadata": {},
   "outputs": [],
   "source": [
    "def jaccard_similarity_sets(set1, set2):\n",
    "    intersection = len(set(set1).intersection(set2))\n",
    "    union = len(set(set1).union(set2))\n",
    "    return intersection / union"
   ]
  },
  {
   "cell_type": "code",
   "execution_count": 8,
   "metadata": {},
   "outputs": [
    {
     "name": "stdout",
     "output_type": "stream",
     "text": [
      "Similarity between Set S1 and S2 is 0.3333333333333333\n"
     ]
    }
   ],
   "source": [
    "S1 = [0, 2, 5, 7, 9]\n",
    "S2 = [0, 1, 2, 4, 5, 6, 8]\n",
    "\n",
    "similarity_S1_S2 = jaccard_similarity_sets(S1, S2)\n",
    "\n",
    "print(f\"Similarity between Set S1 and S2 is {similarity_S1_S2}\")"
   ]
  }
 ],
 "metadata": {
  "kernelspec": {
   "display_name": "base",
   "language": "python",
   "name": "python3"
  },
  "language_info": {
   "codemirror_mode": {
    "name": "ipython",
    "version": 3
   },
   "file_extension": ".py",
   "mimetype": "text/x-python",
   "name": "python",
   "nbconvert_exporter": "python",
   "pygments_lexer": "ipython3",
   "version": "3.12.2"
  }
 },
 "nbformat": 4,
 "nbformat_minor": 2
}
